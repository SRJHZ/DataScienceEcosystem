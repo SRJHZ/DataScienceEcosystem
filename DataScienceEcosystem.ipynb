{
 "cells": [
  {
   "cell_type": "markdown",
   "id": "34221352-7515-47bd-91e9-530d6c6110ce",
   "metadata": {},
   "source": [
    "# Data Science Tools and Ecosystem\n"
   ]
  },
  {
   "cell_type": "markdown",
   "id": "83e0557c-f474-4d80-9501-16ea56cfceb2",
   "metadata": {},
   "source": [
    "In this notebook, Data Science Tools and Ecosystem are summarized.\n",
    "\n",
    "**some of the key takeaways from the course**\n",
    "* unordered list\n",
    "* List popular languages for Data Science\n",
    "* List popular libraries for Data Science\n",
    "* List open source tools for Data Science"
   ]
  },
  {
   "cell_type": "markdown",
   "id": "eefd814a-1912-4920-8db4-169011eb9a3f",
   "metadata": {},
   "source": [
    "Some of the popular languages that Data Scientists use are:\n",
    "1. Python\n",
    "2. R\n",
    "3. SQL\n",
    "4. C++"
   ]
  },
  {
   "cell_type": "markdown",
   "id": "50ea9684-e8e8-455b-bea8-bf4833ae5727",
   "metadata": {
    "tags": []
   },
   "source": [
    "Some of the popular languages that Data Scientists use are:\n",
    "* Python\n",
    "* R\n",
    "* SQL\n",
    "* C++"
   ]
  },
  {
   "cell_type": "markdown",
   "id": "6fe250aa-c535-4712-b334-896a8b9b8fa9",
   "metadata": {},
   "source": [
    "Some of the commonly used libraries used by Data Scientists include:\n",
    "1. Pandas\n",
    "2. Matplotlib\n",
    "3. TensorFlow"
   ]
  },
  {
   "cell_type": "markdown",
   "id": "840ca7d7-2bda-463a-87af-204a9f2d7c06",
   "metadata": {},
   "source": [
    "three development environment open source tools used in data science\n",
    "|tools|\n",
    "|-----|\n",
    "|Jupyter Notebooks|\n",
    "|Jupyter Lab|\n",
    "|Zeppelin|"
   ]
  },
  {
   "cell_type": "markdown",
   "id": "f72801b8-0610-4764-9613-8e7990cecfc5",
   "metadata": {},
   "source": [
    "### Below are a few examples of evaluating arithmetic expressions in Python"
   ]
  },
  {
   "cell_type": "code",
   "execution_count": 4,
   "id": "c75a7385-cb13-4648-8bce-2c3cab4c7742",
   "metadata": {
    "tags": []
   },
   "outputs": [
    {
     "data": {
      "text/plain": [
       "17"
      ]
     },
     "execution_count": 4,
     "metadata": {},
     "output_type": "execute_result"
    }
   ],
   "source": [
    "# This a simple arithmetic expression to mutiply then add integers\n",
    "(3*4)+5"
   ]
  },
  {
   "cell_type": "code",
   "execution_count": 5,
   "id": "485e7e4a-d4f3-4e88-ab34-dd5895de0642",
   "metadata": {
    "tags": []
   },
   "outputs": [
    {
     "data": {
      "text/plain": [
       "3.3333333333333335"
      ]
     },
     "execution_count": 5,
     "metadata": {},
     "output_type": "execute_result"
    }
   ],
   "source": [
    "# This will convert 200 minutes to hours by diving by 60\n",
    "200/60"
   ]
  },
  {
   "cell_type": "markdown",
   "id": "ee4a3c10-6feb-4808-a6b0-fc086080bab6",
   "metadata": {},
   "source": [
    "## Author\n",
    "\n",
    "Hong(James) Zhao"
   ]
  },
  {
   "cell_type": "code",
   "execution_count": null,
   "id": "db616047-5159-47de-af67-aa6695e15950",
   "metadata": {},
   "outputs": [],
   "source": []
  }
 ],
 "metadata": {
  "kernelspec": {
   "display_name": "Python",
   "language": "python",
   "name": "conda-env-python-py"
  },
  "language_info": {
   "codemirror_mode": {
    "name": "ipython",
    "version": 3
   },
   "file_extension": ".py",
   "mimetype": "text/x-python",
   "name": "python",
   "nbconvert_exporter": "python",
   "pygments_lexer": "ipython3",
   "version": "3.7.12"
  }
 },
 "nbformat": 4,
 "nbformat_minor": 5
}
